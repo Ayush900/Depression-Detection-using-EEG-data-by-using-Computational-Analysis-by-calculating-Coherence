{
 "cells": [
  {
   "cell_type": "code",
   "execution_count": 1,
   "metadata": {},
   "outputs": [],
   "source": [
    "import pandas as pd\n",
    "import numpy as np\n",
    "import matplotlib.pyplot as plt\n",
    "import seaborn as sns\n",
    "import scipy.stats as scs\n",
    "import glob as gb\n",
    "import png\n",
    "import re\n",
    "import os\n",
    "from numpy import genfromtxt\n",
    "from PIL import Image\n",
    "import cv2\n",
    "\n",
    "# %matplotlib inline\n",
    "# plt.style.use('ggplot')\n",
    "# from IPython.core.display import display, HTML\n",
    "# display(HTML(\"<style>.container { width:100% !important; }</style>\"))\n",
    "# plt.rcParams[\"figure.figsize\"] = (12,12)\n",
    "# pd.options.display.max_columns = None\n",
    "# pd.options.display.precision = 4"
   ]
  },
  {
   "cell_type": "code",
   "execution_count": 2,
   "metadata": {},
   "outputs": [],
   "source": [
    "# alpha='C:/Users/ayush/OneDrive/Desktop/DATASET FOR COMPUTATIONAL/ALPHA'\n",
    "csv_files_beta=os.listdir('C:/Users/ayush/OneDrive/Desktop/DATASET FOR COMPUTATIONAL/BETA')\n",
    "csv_files_gamma=os.listdir('C:/Users/ayush/OneDrive/Desktop/DATASET FOR COMPUTATIONAL/GAMMA')\n",
    "# delta='C:/Users/ayush/OneDrive/Desktop/DATASET FOR COMPUTATIONAL/DELTA'\n",
    "csv_files_theta=os.listdir('C:/Users/ayush/OneDrive/Desktop/DATASET FOR COMPUTATIONAL/THETA')"
   ]
  },
  {
   "cell_type": "code",
   "execution_count": 3,
   "metadata": {},
   "outputs": [],
   "source": [
    "def save_matrices_in_a_list(file_names,band):\n",
    "    functional_connectivity_matrices_of_a_band = []\n",
    "    for file in file_names:\n",
    "        mat = open(r'C:/Users/ayush/OneDrive/Desktop/DATASET FOR COMPUTATIONAL/'+band+'/'+file)\n",
    "        fcm = np.loadtxt(mat, delimiter=\",\")\n",
    "        UT=np.triu([fcm])[0]\n",
    "        l=[]                                                       \n",
    "        for i in range(60):\n",
    "            l.append(UT[i][i+1:])\n",
    "\n",
    "        l1=[]\n",
    "        for i in range(60):                                         ##  Saving the datapoints in the form of a linear array\n",
    "            for j in range(len(l[i])):\n",
    "                l1.append(l[i][j])\n",
    "                \n",
    "        l2=[]\n",
    "        l2=l1[0:1764]                                               ## dropping the last six datapoints and converting the linear array into a 42*42 square matrix\n",
    "        x1 = np.reshape(l2, (42, 42)) \n",
    "        functional_connectivity_matrices_of_a_band.append(x1)\n",
    "    return functional_connectivity_matrices_of_a_band"
   ]
  },
  {
   "cell_type": "code",
   "execution_count": 4,
   "metadata": {},
   "outputs": [],
   "source": [
    "st=\"BETA\"\n",
    "Beta_band_fcm_coherence = save_matrices_in_a_list(csv_files_beta,st)"
   ]
  },
  {
   "cell_type": "code",
   "execution_count": 5,
   "metadata": {},
   "outputs": [
    {
     "data": {
      "text/plain": [
       "29"
      ]
     },
     "execution_count": 5,
     "metadata": {},
     "output_type": "execute_result"
    }
   ],
   "source": [
    "len(Beta_band_fcm_coherence)"
   ]
  },
  {
   "cell_type": "code",
   "execution_count": 6,
   "metadata": {},
   "outputs": [],
   "source": [
    "st=\"GAMMA\"\n",
    "Gamma_band_fcm_coherence = save_matrices_in_a_list(csv_files_gamma,st)"
   ]
  },
  {
   "cell_type": "code",
   "execution_count": 7,
   "metadata": {},
   "outputs": [],
   "source": [
    "st=\"THETA\"\n",
    "Theta_band_fcm_coherence = save_matrices_in_a_list(csv_files_theta,st)"
   ]
  },
  {
   "cell_type": "code",
   "execution_count": 50,
   "metadata": {},
   "outputs": [
    {
     "name": "stdout",
     "output_type": "stream",
     "text": [
      "42\n"
     ]
    },
    {
     "data": {
      "text/plain": [
       "(72, 72)"
      ]
     },
     "execution_count": 50,
     "metadata": {},
     "output_type": "execute_result"
    }
   ],
   "source": [
    "m1 = Beta_band_fcm_coherence[0]\n",
    "m2 = Gamma_band_fcm_coherence[0]\n",
    "m3 = Theta_band_fcm_coherence[0]\n",
    "mat=np.concatenate((m1, m2))\n",
    "m=np.concatenate((mat, m3))\n",
    "m=m.T\n",
    "x=m.shape\n",
    "rows=x[0]\n",
    "col=x[1]\n",
    "print(rows)\n",
    "l1=[]\n",
    "# for i in range(rows):\n",
    "#     for j in range col:\n",
    "#         l1.append()\n",
    "\n",
    "# l1.append(m[0][0])\n",
    "# l1.append(m[0][1])\n",
    "# l1\n",
    "for j in range(0,rows):\n",
    "    for k in range(0,col):\n",
    "        l1.append(m[j][k])\n",
    "len(l1)\n",
    "l2=[]\n",
    "l2=l1[:5184]\n",
    "x1 = np.reshape(l2, (72, 72))\n",
    "x1.shape\n"
   ]
  },
  {
   "cell_type": "code",
   "execution_count": 41,
   "metadata": {},
   "outputs": [
    {
     "data": {
      "text/plain": [
       "1"
      ]
     },
     "execution_count": 41,
     "metadata": {},
     "output_type": "execute_result"
    }
   ],
   "source": []
  },
  {
   "cell_type": "code",
   "execution_count": 53,
   "metadata": {},
   "outputs": [],
   "source": [
    "def combine_matrices_of_bands(fcm1,fcm2,fcm3):\n",
    "    i=0\n",
    "    answer=[]\n",
    "    for i in range(len(fcm1)):\n",
    "        mat1=fcm1[i]\n",
    "        mat2=fcm2[i]\n",
    "        mat3=fcm3[i]\n",
    "        mat=np.concatenate((mat1, mat2))\n",
    "        m=np.concatenate((mat, mat3))\n",
    "        m=m.T\n",
    "        x=m.shape\n",
    "        rows=x[0]\n",
    "        col=x[1]\n",
    "        l1=[]\n",
    "        for j in range(x[0]):\n",
    "            for k in range(x[1]):\n",
    "                l1.append(m[i][j])\n",
    "        l2=[]        \n",
    "        l2=l1[0:5184]                                               ## dropping the last six datapoints and converting the linear array into a 42*42 square matrix\n",
    "        x1 = np.reshape(l2, (72, 72)) \n",
    "        answer.append(x1)\n",
    "    return answer"
   ]
  },
  {
   "cell_type": "code",
   "execution_count": 54,
   "metadata": {},
   "outputs": [],
   "source": [
    "ans = combine_matrices_of_bands(Beta_band_fcm_coherence,Gamma_band_fcm_coherence,Theta_band_fcm_coherence)"
   ]
  },
  {
   "cell_type": "code",
   "execution_count": 57,
   "metadata": {},
   "outputs": [
    {
     "data": {
      "text/plain": [
       "29"
      ]
     },
     "execution_count": 57,
     "metadata": {},
     "output_type": "execute_result"
    }
   ],
   "source": [
    "len(ans)"
   ]
  },
  {
   "cell_type": "code",
   "execution_count": 61,
   "metadata": {},
   "outputs": [
    {
     "data": {
      "text/plain": [
       "<matplotlib.image.AxesImage at 0x1f9150dc148>"
      ]
     },
     "execution_count": 61,
     "metadata": {},
     "output_type": "execute_result"
    },
    {
     "data": {
      "image/png": "[encoded data removed]",
      "text/plain": [
       "<Figure size 432x288 with 1 Axes>"
      ]
     },
     "metadata": {
      "needs_background": "light"
     },
     "output_type": "display_data"
    }
   ],
   "source": [
    "plt.imshow(ans[0])"
   ]
  },
  {
   "cell_type": "code",
   "execution_count": 60,
   "metadata": {},
   "outputs": [
    {
     "data": {
      "text/plain": [
       "<matplotlib.image.AxesImage at 0x1f915064a48>"
      ]
     },
     "execution_count": 60,
     "metadata": {},
     "output_type": "execute_result"
    },
    {
     "data": {
      "image/png": "[encoded data removed]",
      "text/plain": [
       "<Figure size 432x288 with 1 Axes>"
      ]
     },
     "metadata": {
      "needs_background": "light"
     },
     "output_type": "display_data"
    }
   ],
   "source": [
    "plt.imshow(ans[1])"
   ]
  },
  {
   "cell_type": "code",
   "execution_count": 62,
   "metadata": {},
   "outputs": [],
   "source": [
    "labels=[\"558\",\"559\",\"561\",\"565\",\"567\",\"586\",\"587\",\"591\",\"592\",\"594\",\"595\",\"597\",\"598\",\"602\",\"604\",\"605\",\"606\",\n",
    "        \"607\",\"610\",\"613\",\"614\",\"616\",\"618\",\"622\",\"624\",\"625\",\"626\",\"627\",\"628\"]"
   ]
  },
  {
   "cell_type": "code",
   "execution_count": 63,
   "metadata": {},
   "outputs": [],
   "source": [
    "def genrate_images(matrices,labels):\n",
    "    k=0\n",
    "    for matrix in matrices:\n",
    "        s=str(labels[k])+\"final\"+\".jpeg\"\n",
    "        plt.imshow(matrix)\n",
    "        fig1 = plt.gcf()\n",
    "        fig1.savefig(s, dpi=50)\n",
    "        k=k+1\n",
    "    return"
   ]
  },
  {
   "cell_type": "code",
   "execution_count": 64,
   "metadata": {},
   "outputs": [
    {
     "data": {
      "image/png": "[encoded data removed]",
      "text/plain": [
       "<Figure size 432x288 with 1 Axes>"
      ]
     },
     "metadata": {
      "needs_background": "light"
     },
     "output_type": "display_data"
    }
   ],
   "source": [
    "genrate_images(ans,labels)"
   ]
  },
  {
   "cell_type": "code",
   "execution_count": null,
   "metadata": {},
   "outputs": [],
   "source": []
  }
 ],
 "metadata": {
  "kernelspec": {
   "display_name": "Python 3",
   "language": "python",
   "name": "python3"
  },
  "language_info": {
   "codemirror_mode": {
    "name": "ipython",
    "version": 3
   },
   "file_extension": ".py",
   "mimetype": "text/x-python",
   "name": "python",
   "nbconvert_exporter": "python",
   "pygments_lexer": "ipython3",
   "version": "3.7.9"
  }
 },
 "nbformat": 4,
 "nbformat_minor": 4
}
